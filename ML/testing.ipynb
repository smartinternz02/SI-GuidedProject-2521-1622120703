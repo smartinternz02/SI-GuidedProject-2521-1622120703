{
 "cells": [
  {
   "cell_type": "code",
   "execution_count": 1,
   "id": "5d94bab7",
   "metadata": {},
   "outputs": [],
   "source": [
    "from tensorflow.keras.models import load_model"
   ]
  },
  {
   "cell_type": "code",
   "execution_count": 2,
   "id": "ee581ae7",
   "metadata": {},
   "outputs": [],
   "source": [
    "model=load_model(r'C:\\Users\\M MAHESH\\ML\\models\\mnistCNN.h5')"
   ]
  },
  {
   "cell_type": "code",
   "execution_count": 3,
   "id": "4a26c641",
   "metadata": {},
   "outputs": [],
   "source": [
    "from PIL import Image"
   ]
  },
  {
   "cell_type": "code",
   "execution_count": 4,
   "id": "99035872",
   "metadata": {},
   "outputs": [],
   "source": [
    "import numpy as np"
   ]
  },
  {
   "cell_type": "code",
   "execution_count": 6,
   "id": "6b4ea2a3",
   "metadata": {},
   "outputs": [
    {
     "name": "stdout",
     "output_type": "stream",
     "text": [
      "[[9.3000954e-01 3.5128891e-10 2.5096858e-07 2.8330487e-05 6.1513633e-12\n",
      "  2.5700115e-06 4.9569076e-06 1.3424529e-09 5.0460817e-06 6.9949210e-02]]\n",
      "[[3.2528609e-07 9.9998832e-01 3.3463145e-06 7.6365296e-08 1.9118145e-06\n",
      "  1.5148308e-06 2.3533340e-07 8.1544681e-07 2.3048001e-06 1.1785785e-06]]\n",
      "[[3.5914611e-18 2.8529651e-15 1.0000000e+00 1.5989943e-09 5.6938158e-21\n",
      "  2.5238583e-15 4.7937687e-17 3.1911011e-15 2.6016450e-12 1.7604516e-16]]\n",
      "[[1.5715591e-15 2.0342152e-14 2.0684359e-12 9.9999988e-01 1.4295235e-16\n",
      "  1.3460028e-07 3.5518861e-15 1.4787770e-09 5.1162095e-11 5.9065620e-11]]\n"
     ]
    }
   ],
   "source": [
    "for index in range(4):\n",
    "    img=Image.open('C:/Users/M MAHESH/Desktop/SmartBridge Project/Hand_Written_Recognition_System-main/Flask App/input images/' +str(index)+'.png').convert(\"L\")\n",
    "    img=img.resize((28,28))\n",
    "    im2arr=np.array(img)\n",
    "    im2arr=im2arr.reshape(1,28,28,1)\n",
    "    y_pred=model.predict(im2arr)\n",
    "    print(y_pred)"
   ]
  },
  {
   "cell_type": "code",
   "execution_count": null,
   "id": "ccc13336",
   "metadata": {},
   "outputs": [],
   "source": []
  },
  {
   "cell_type": "code",
   "execution_count": null,
   "id": "20ddcf11",
   "metadata": {},
   "outputs": [],
   "source": []
  }
 ],
 "metadata": {
  "kernelspec": {
   "display_name": "Python 3",
   "language": "python",
   "name": "python3"
  },
  "language_info": {
   "codemirror_mode": {
    "name": "ipython",
    "version": 3
   },
   "file_extension": ".py",
   "mimetype": "text/x-python",
   "name": "python",
   "nbconvert_exporter": "python",
   "pygments_lexer": "ipython3",
   "version": "3.8.8"
  }
 },
 "nbformat": 4,
 "nbformat_minor": 5
}
